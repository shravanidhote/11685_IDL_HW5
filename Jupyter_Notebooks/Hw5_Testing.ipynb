{
  "metadata": {
    "colab": {
      "provenance": [],
      "gpuType": "A100",
      "machine_shape": "hm"
    },
    "kernelspec": {
      "name": "python3",
      "display_name": "Python 3"
    },
    "language_info": {
      "name": "python",
      "version": "3.10.12",
      "mimetype": "text/x-python",
      "codemirror_mode": {
        "name": "ipython",
        "version": 3
      },
      "pygments_lexer": "ipython3",
      "nbconvert_exporter": "python",
      "file_extension": ".py"
    },
    "kaggle": {
      "accelerator": "nvidiaTeslaT4",
      "dataSources": [
        {
          "sourceId": 7140493,
          "sourceType": "datasetVersion",
          "datasetId": 4121202
        },
        {
          "sourceId": 7144179,
          "sourceType": "datasetVersion",
          "datasetId": 4123763
        },
        {
          "sourceId": 7170763,
          "sourceType": "datasetVersion",
          "datasetId": 4143070
        }
      ],
      "dockerImageVersionId": 30616,
      "isInternetEnabled": true,
      "language": "python",
      "sourceType": "notebook",
      "isGpuEnabled": true
    },
    "accelerator": "GPU",
    "widgets": {
      "application/vnd.jupyter.widget-state+json": {
        "aa787d0b446c43c7b64002d6716466de": {
          "model_module": "@jupyter-widgets/controls",
          "model_name": "VBoxModel",
          "model_module_version": "1.5.0",
          "state": {
            "_dom_classes": [],
            "_model_module": "@jupyter-widgets/controls",
            "_model_module_version": "1.5.0",
            "_model_name": "VBoxModel",
            "_view_count": null,
            "_view_module": "@jupyter-widgets/controls",
            "_view_module_version": "1.5.0",
            "_view_name": "VBoxView",
            "box_style": "",
            "children": [
              "IPY_MODEL_10ba5ab955474f57b8cf9138cf4239e2",
              "IPY_MODEL_c801f9a8205b44d685afa555809e2531"
            ],
            "layout": "IPY_MODEL_3b0e005ccea94a0b8d1a03b2b06f18d7"
          }
        },
        "10ba5ab955474f57b8cf9138cf4239e2": {
          "model_module": "@jupyter-widgets/controls",
          "model_name": "LabelModel",
          "model_module_version": "1.5.0",
          "state": {
            "_dom_classes": [],
            "_model_module": "@jupyter-widgets/controls",
            "_model_module_version": "1.5.0",
            "_model_name": "LabelModel",
            "_view_count": null,
            "_view_module": "@jupyter-widgets/controls",
            "_view_module_version": "1.5.0",
            "_view_name": "LabelView",
            "description": "",
            "description_tooltip": null,
            "layout": "IPY_MODEL_800676920e5f43658658f3e648152fa9",
            "placeholder": "​",
            "style": "IPY_MODEL_5f08ec1c863b4b249644649fd44999c9",
            "value": "807.381 MB of 807.381 MB uploaded\r"
          }
        },
        "c801f9a8205b44d685afa555809e2531": {
          "model_module": "@jupyter-widgets/controls",
          "model_name": "FloatProgressModel",
          "model_module_version": "1.5.0",
          "state": {
            "_dom_classes": [],
            "_model_module": "@jupyter-widgets/controls",
            "_model_module_version": "1.5.0",
            "_model_name": "FloatProgressModel",
            "_view_count": null,
            "_view_module": "@jupyter-widgets/controls",
            "_view_module_version": "1.5.0",
            "_view_name": "ProgressView",
            "bar_style": "",
            "description": "",
            "description_tooltip": null,
            "layout": "IPY_MODEL_ba9d044c7af84f69a29b853a9bf7db59",
            "max": 1,
            "min": 0,
            "orientation": "horizontal",
            "style": "IPY_MODEL_1a6e6ec8a6c74883b986e2056bf62f54",
            "value": 1
          }
        },
        "3b0e005ccea94a0b8d1a03b2b06f18d7": {
          "model_module": "@jupyter-widgets/base",
          "model_name": "LayoutModel",
          "model_module_version": "1.2.0",
          "state": {
            "_model_module": "@jupyter-widgets/base",
            "_model_module_version": "1.2.0",
            "_model_name": "LayoutModel",
            "_view_count": null,
            "_view_module": "@jupyter-widgets/base",
            "_view_module_version": "1.2.0",
            "_view_name": "LayoutView",
            "align_content": null,
            "align_items": null,
            "align_self": null,
            "border": null,
            "bottom": null,
            "display": null,
            "flex": null,
            "flex_flow": null,
            "grid_area": null,
            "grid_auto_columns": null,
            "grid_auto_flow": null,
            "grid_auto_rows": null,
            "grid_column": null,
            "grid_gap": null,
            "grid_row": null,
            "grid_template_areas": null,
            "grid_template_columns": null,
            "grid_template_rows": null,
            "height": null,
            "justify_content": null,
            "justify_items": null,
            "left": null,
            "margin": null,
            "max_height": null,
            "max_width": null,
            "min_height": null,
            "min_width": null,
            "object_fit": null,
            "object_position": null,
            "order": null,
            "overflow": null,
            "overflow_x": null,
            "overflow_y": null,
            "padding": null,
            "right": null,
            "top": null,
            "visibility": null,
            "width": null
          }
        },
        "800676920e5f43658658f3e648152fa9": {
          "model_module": "@jupyter-widgets/base",
          "model_name": "LayoutModel",
          "model_module_version": "1.2.0",
          "state": {
            "_model_module": "@jupyter-widgets/base",
            "_model_module_version": "1.2.0",
            "_model_name": "LayoutModel",
            "_view_count": null,
            "_view_module": "@jupyter-widgets/base",
            "_view_module_version": "1.2.0",
            "_view_name": "LayoutView",
            "align_content": null,
            "align_items": null,
            "align_self": null,
            "border": null,
            "bottom": null,
            "display": null,
            "flex": null,
            "flex_flow": null,
            "grid_area": null,
            "grid_auto_columns": null,
            "grid_auto_flow": null,
            "grid_auto_rows": null,
            "grid_column": null,
            "grid_gap": null,
            "grid_row": null,
            "grid_template_areas": null,
            "grid_template_columns": null,
            "grid_template_rows": null,
            "height": null,
            "justify_content": null,
            "justify_items": null,
            "left": null,
            "margin": null,
            "max_height": null,
            "max_width": null,
            "min_height": null,
            "min_width": null,
            "object_fit": null,
            "object_position": null,
            "order": null,
            "overflow": null,
            "overflow_x": null,
            "overflow_y": null,
            "padding": null,
            "right": null,
            "top": null,
            "visibility": null,
            "width": null
          }
        },
        "5f08ec1c863b4b249644649fd44999c9": {
          "model_module": "@jupyter-widgets/controls",
          "model_name": "DescriptionStyleModel",
          "model_module_version": "1.5.0",
          "state": {
            "_model_module": "@jupyter-widgets/controls",
            "_model_module_version": "1.5.0",
            "_model_name": "DescriptionStyleModel",
            "_view_count": null,
            "_view_module": "@jupyter-widgets/base",
            "_view_module_version": "1.2.0",
            "_view_name": "StyleView",
            "description_width": ""
          }
        },
        "ba9d044c7af84f69a29b853a9bf7db59": {
          "model_module": "@jupyter-widgets/base",
          "model_name": "LayoutModel",
          "model_module_version": "1.2.0",
          "state": {
            "_model_module": "@jupyter-widgets/base",
            "_model_module_version": "1.2.0",
            "_model_name": "LayoutModel",
            "_view_count": null,
            "_view_module": "@jupyter-widgets/base",
            "_view_module_version": "1.2.0",
            "_view_name": "LayoutView",
            "align_content": null,
            "align_items": null,
            "align_self": null,
            "border": null,
            "bottom": null,
            "display": null,
            "flex": null,
            "flex_flow": null,
            "grid_area": null,
            "grid_auto_columns": null,
            "grid_auto_flow": null,
            "grid_auto_rows": null,
            "grid_column": null,
            "grid_gap": null,
            "grid_row": null,
            "grid_template_areas": null,
            "grid_template_columns": null,
            "grid_template_rows": null,
            "height": null,
            "justify_content": null,
            "justify_items": null,
            "left": null,
            "margin": null,
            "max_height": null,
            "max_width": null,
            "min_height": null,
            "min_width": null,
            "object_fit": null,
            "object_position": null,
            "order": null,
            "overflow": null,
            "overflow_x": null,
            "overflow_y": null,
            "padding": null,
            "right": null,
            "top": null,
            "visibility": null,
            "width": null
          }
        },
        "1a6e6ec8a6c74883b986e2056bf62f54": {
          "model_module": "@jupyter-widgets/controls",
          "model_name": "ProgressStyleModel",
          "model_module_version": "1.5.0",
          "state": {
            "_model_module": "@jupyter-widgets/controls",
            "_model_module_version": "1.5.0",
            "_model_name": "ProgressStyleModel",
            "_view_count": null,
            "_view_module": "@jupyter-widgets/base",
            "_view_module_version": "1.2.0",
            "_view_name": "StyleView",
            "bar_color": null,
            "description_width": ""
          }
        }
      }
    }
  },
  "nbformat_minor": 0,
  "nbformat": 4,
  "cells": [
    {
      "cell_type": "code",
      "source": [
        "!pip install datasets tiktoken wandb --quiet\n",
        "import tiktoken\n",
        "import math\n",
        "import torch\n",
        "import numpy as np\n",
        "import gc\n",
        "import torch.nn as nn\n",
        "from torch.nn import functional as F\n",
        "from tqdm import tqdm\n",
        "import os\n",
        "import time\n",
        "import pandas as pd\n",
        "import re\n",
        "from tqdm import tqdm"
      ],
      "metadata": {
        "id": "ZTMqDCpoGb7J",
        "execution": {
          "iopub.status.busy": "2023-12-10T21:48:11.997483Z",
          "iopub.execute_input": "2023-12-10T21:48:11.997752Z",
          "iopub.status.idle": "2023-12-10T21:48:28.394558Z",
          "shell.execute_reply.started": "2023-12-10T21:48:11.997726Z",
          "shell.execute_reply": "2023-12-10T21:48:28.393489Z"
        },
        "trusted": true,
        "colab": {
          "base_uri": "https://localhost:8080/"
        },
        "outputId": "9691e0f0-e25d-4d85-de61-c84fc5b157aa"
      },
      "execution_count": 1,
      "outputs": [
        {
          "output_type": "stream",
          "name": "stdout",
          "text": [
            "\u001b[2K     \u001b[90m━━━━━━━━━━━━━━━━━━━━━━━━━━━━━━━━━━━━━━━━\u001b[0m \u001b[32m521.2/521.2 kB\u001b[0m \u001b[31m8.5 MB/s\u001b[0m eta \u001b[36m0:00:00\u001b[0m\n",
            "\u001b[2K     \u001b[90m━━━━━━━━━━━━━━━━━━━━━━━━━━━━━━━━━━━━━━━━\u001b[0m \u001b[32m2.0/2.0 MB\u001b[0m \u001b[31m71.3 MB/s\u001b[0m eta \u001b[36m0:00:00\u001b[0m\n",
            "\u001b[2K     \u001b[90m━━━━━━━━━━━━━━━━━━━━━━━━━━━━━━━━━━━━━━━━\u001b[0m \u001b[32m2.1/2.1 MB\u001b[0m \u001b[31m91.6 MB/s\u001b[0m eta \u001b[36m0:00:00\u001b[0m\n",
            "\u001b[2K     \u001b[90m━━━━━━━━━━━━━━━━━━━━━━━━━━━━━━━━━━━━━━━━\u001b[0m \u001b[32m115.3/115.3 kB\u001b[0m \u001b[31m15.6 MB/s\u001b[0m eta \u001b[36m0:00:00\u001b[0m\n",
            "\u001b[2K     \u001b[90m━━━━━━━━━━━━━━━━━━━━━━━━━━━━━━━━━━━━━━━━\u001b[0m \u001b[32m134.8/134.8 kB\u001b[0m \u001b[31m19.0 MB/s\u001b[0m eta \u001b[36m0:00:00\u001b[0m\n",
            "\u001b[2K     \u001b[90m━━━━━━━━━━━━━━━━━━━━━━━━━━━━━━━━━━━━━━━━\u001b[0m \u001b[32m190.6/190.6 kB\u001b[0m \u001b[31m26.0 MB/s\u001b[0m eta \u001b[36m0:00:00\u001b[0m\n",
            "\u001b[2K     \u001b[90m━━━━━━━━━━━━━━━━━━━━━━━━━━━━━━━━━━━━━━━━\u001b[0m \u001b[32m254.0/254.0 kB\u001b[0m \u001b[31m32.4 MB/s\u001b[0m eta \u001b[36m0:00:00\u001b[0m\n",
            "\u001b[2K     \u001b[90m━━━━━━━━━━━━━━━━━━━━━━━━━━━━━━━━━━━━━━━━\u001b[0m \u001b[32m62.7/62.7 kB\u001b[0m \u001b[31m8.9 MB/s\u001b[0m eta \u001b[36m0:00:00\u001b[0m\n",
            "\u001b[?25h\u001b[31mERROR: pip's dependency resolver does not currently take into account all the packages that are installed. This behaviour is the source of the following dependency conflicts.\n",
            "llmx 0.0.15a0 requires cohere, which is not installed.\n",
            "llmx 0.0.15a0 requires openai, which is not installed.\u001b[0m\u001b[31m\n",
            "\u001b[0m"
          ]
        }
      ]
    },
    {
      "cell_type": "code",
      "source": [
        "device = 'cuda' if torch.cuda.is_available() else 'cpu'"
      ],
      "metadata": {
        "id": "z2UKXcYm5p6T"
      },
      "execution_count": 2,
      "outputs": []
    },
    {
      "cell_type": "code",
      "source": [
        "encoder_1 = tiktoken.get_encoding(\"gpt2\")"
      ],
      "metadata": {
        "id": "qSyuNHfK5reI"
      },
      "execution_count": 3,
      "outputs": []
    },
    {
      "cell_type": "code",
      "source": [
        "from google.colab import drive\n",
        "drive.mount('/content/drive')"
      ],
      "metadata": {
        "colab": {
          "base_uri": "https://localhost:8080/"
        },
        "id": "1SnshIgDdMlf",
        "outputId": "9863c081-6961-43aa-f02e-ee2fbb034d5b"
      },
      "execution_count": 4,
      "outputs": [
        {
          "output_type": "stream",
          "name": "stdout",
          "text": [
            "Mounted at /content/drive\n"
          ]
        }
      ]
    },
    {
      "cell_type": "code",
      "source": [
        "!pip install --upgrade --force-reinstall --no-deps kaggle==1.5.8\n",
        "!mkdir /root/.kaggle\n",
        "\n",
        "with open(\"/root/.kaggle/kaggle.json\", \"w+\") as f:\n",
        "    f.write('{\"username\":\"shravanidhote12\",\"key\":\"d238c4c92c6c26cc53fcc6382afeb017\"}') # Put your kaggle username & key here\n",
        "\n",
        "!chmod 600 /root/.kaggle/kaggle.json"
      ],
      "metadata": {
        "execution": {
          "iopub.status.busy": "2023-12-10T18:26:15.301469Z",
          "iopub.execute_input": "2023-12-10T18:26:15.301778Z",
          "iopub.status.idle": "2023-12-10T18:26:22.093539Z",
          "shell.execute_reply.started": "2023-12-10T18:26:15.301754Z",
          "shell.execute_reply": "2023-12-10T18:26:22.092208Z"
        },
        "trusted": true,
        "colab": {
          "base_uri": "https://localhost:8080/"
        },
        "id": "0fY4EM5eaDVD",
        "outputId": "ec6a4182-23f6-419e-affd-e8cd95b4753f"
      },
      "execution_count": 5,
      "outputs": [
        {
          "output_type": "stream",
          "name": "stdout",
          "text": [
            "Collecting kaggle==1.5.8\n",
            "  Downloading kaggle-1.5.8.tar.gz (59 kB)\n",
            "\u001b[?25l     \u001b[90m━━━━━━━━━━━━━━━━━━━━━━━━━━━━━━━━━━━━━━━━\u001b[0m \u001b[32m0.0/59.2 kB\u001b[0m \u001b[31m?\u001b[0m eta \u001b[36m-:--:--\u001b[0m\r\u001b[2K     \u001b[90m━━━━━━━━━━━━━━━━━━━━━━━━━━━━━━━━━━━━━━━━\u001b[0m \u001b[32m59.2/59.2 kB\u001b[0m \u001b[31m1.9 MB/s\u001b[0m eta \u001b[36m0:00:00\u001b[0m\n",
            "\u001b[?25h  Preparing metadata (setup.py) ... \u001b[?25l\u001b[?25hdone\n",
            "Building wheels for collected packages: kaggle\n",
            "  Building wheel for kaggle (setup.py) ... \u001b[?25l\u001b[?25hdone\n",
            "  Created wheel for kaggle: filename=kaggle-1.5.8-py3-none-any.whl size=73248 sha256=9ae17a24c81130746a078a5a3da56ff1ec29e2307c1b57d481aca75ed57e2f48\n",
            "  Stored in directory: /root/.cache/pip/wheels/0b/76/ca/e58f8afa83166a0e68f0d5cd2e7f99d260bdc40e35da080eee\n",
            "Successfully built kaggle\n",
            "Installing collected packages: kaggle\n",
            "  Attempting uninstall: kaggle\n",
            "    Found existing installation: kaggle 1.5.16\n",
            "    Uninstalling kaggle-1.5.16:\n",
            "      Successfully uninstalled kaggle-1.5.16\n",
            "Successfully installed kaggle-1.5.8\n"
          ]
        }
      ]
    },
    {
      "cell_type": "code",
      "source": [
        "main_data = np.load('/content/drive/MyDrive/IDL/HW5/Finetune_tiral/complete_data_2.npz')\n",
        "train_dataset = main_data['train']\n",
        "validation_dataset   = main_data['val']\n",
        "test_dataset  = main_data['test']"
      ],
      "metadata": {
        "id": "Qtre4WGWEVKL",
        "execution": {
          "iopub.status.busy": "2023-12-10T21:50:46.922092Z",
          "iopub.execute_input": "2023-12-10T21:50:46.923010Z",
          "iopub.status.idle": "2023-12-10T21:50:47.596422Z",
          "shell.execute_reply.started": "2023-12-10T21:50:46.922967Z",
          "shell.execute_reply": "2023-12-10T21:50:47.595479Z"
        },
        "trusted": true
      },
      "execution_count": 51,
      "outputs": []
    },
    {
      "cell_type": "markdown",
      "source": [
        "# Finetuning loader"
      ],
      "metadata": {
        "id": "WMkJGwHj52l_"
      }
    },
    {
      "cell_type": "code",
      "source": [
        "class Fine_tuning_dataloader(torch.utils.data.DataLoader):\n",
        "    def __init__(self, data, bs=32):\n",
        "\n",
        "        self.data, self.bs, len_data = data, bs, len(data)\n",
        "\n",
        "        temp = len_data / self.bs\n",
        "        self.batch_count = math.ceil(temp)\n",
        "\n",
        "    def __len__(self):\n",
        "\n",
        "        return self.batch_count\n",
        "\n",
        "    def __iter__(self):\n",
        "\n",
        "        np.random.shuffle(self.data)\n",
        "\n",
        "        for point in range(0, len(self.data), self.bs):\n",
        "\n",
        "            temp = point + self.bs\n",
        "\n",
        "            ip = self.data[point:temp, :]\n",
        "\n",
        "            column_except_first = ip[:, 1:]\n",
        "\n",
        "            column_of_eot_tokens = np.full((ip.shape[0], 1), encoder_1.eot_token)\n",
        "\n",
        "            op = np.concatenate((column_except_first, column_of_eot_tokens), axis=1)\n",
        "\n",
        "            ip_as_int64 = ip.astype(np.int64)\n",
        "            op_as_int64 = op.astype(np.int64)\n",
        "\n",
        "            yield torch.from_numpy(ip_as_int64), torch.from_numpy(op_as_int64)\n",
        "\n",
        "val_dataset_fineloader = Fine_tuning_dataloader(validation_dataset)\n",
        "test_dataset_fineloader = Fine_tuning_dataloader(test_dataset)\n",
        "\n",
        "summary_test_data = []\n",
        "qa_test_data = []\n",
        "for i in tqdm(range(len(test_dataset))):\n",
        "    line = encoder_1.decode(test_dataset[i]).replace(\"<|endoftext|>\",\"\").strip()\n",
        "    if \"<# generate summary#>\" in line:\n",
        "        summary_test_data.append(line.split(\"<# generate summary#>\"))\n",
        "    if \"<#get answer#>\" in line:\n",
        "        qa_test_data.append(re.split(r'<#get answer#>|<#question#>', line))"
      ],
      "metadata": {
        "id": "J1iqvhUrEXyy",
        "execution": {
          "iopub.status.busy": "2023-12-10T21:50:52.653070Z",
          "iopub.execute_input": "2023-12-10T21:50:52.653912Z",
          "iopub.status.idle": "2023-12-10T21:50:57.723334Z",
          "shell.execute_reply.started": "2023-12-10T21:50:52.653877Z",
          "shell.execute_reply": "2023-12-10T21:50:57.722535Z"
        },
        "trusted": true,
        "colab": {
          "base_uri": "https://localhost:8080/"
        },
        "outputId": "d3084afd-dec9-4fae-b31f-b18fbf9d3e3b"
      },
      "execution_count": 52,
      "outputs": [
        {
          "output_type": "stream",
          "name": "stderr",
          "text": [
            "100%|██████████| 68941/68941 [00:03<00:00, 19842.36it/s]\n"
          ]
        }
      ]
    },
    {
      "cell_type": "markdown",
      "source": [
        "## Loading ssummary dataframe"
      ],
      "metadata": {
        "id": "HLTCZvRpYanC"
      }
    },
    {
      "cell_type": "code",
      "source": [
        "number_of_data_inputs = 200\n",
        "summary_task_df = pd.DataFrame(summary_test_data, columns=['article', 'highlights'])\n",
        "number_of_group = summary_task_df.groupby('highlights').ngroup()\n",
        "summary_task_df['GroupID'] = number_of_group + 1\n",
        "summary_task_df = summary_task_df.sort_values(by='GroupID')\n",
        "summary_task_df = summary_task_df[(summary_task_df['GroupID'] > number_of_data_inputs) & (summary_task_df['GroupID'] <= 2 * number_of_data_inputs)]\n",
        "summary_task_df.head()"
      ],
      "metadata": {
        "colab": {
          "base_uri": "https://localhost:8080/",
          "height": 206
        },
        "id": "L5fXwcesmPqn",
        "outputId": "ff88269f-c456-4007-9b5e-fd25e5f6b434",
        "execution": {
          "iopub.status.busy": "2023-12-10T21:52:27.668321Z",
          "iopub.execute_input": "2023-12-10T21:52:27.668707Z",
          "iopub.status.idle": "2023-12-10T21:52:28.219543Z",
          "shell.execute_reply.started": "2023-12-10T21:52:27.668669Z",
          "shell.execute_reply": "2023-12-10T21:52:28.218371Z"
        },
        "trusted": true
      },
      "execution_count": 53,
      "outputs": [
        {
          "output_type": "execute_result",
          "data": {
            "text/plain": [
              "                                                article  \\\n",
              "2533  a scent could be associated with food, and the...   \n",
              "2532  each week of dogs ingesting foreign objects, a...   \n",
              "2530  (CNN)You might call her a watchdog, because th...   \n",
              "2531  emergency and specialty hospital, where a vete...   \n",
              "2534  the timing of this whole incident is a little ...   \n",
              "\n",
              "                                             highlights  GroupID  \n",
              "2533  A Boston-area dog ate three of her owner's wri...      201  \n",
              "2532  A Boston-area dog ate three of her owner's wri...      201  \n",
              "2530  A Boston-area dog ate three of her owner's wri...      201  \n",
              "2531  A Boston-area dog ate three of her owner's wri...      201  \n",
              "2534  A Boston-area dog ate three of her owner's wri...      201  "
            ],
            "text/html": [
              "\n",
              "  <div id=\"df-ae5e7fdd-1225-45ad-82e5-b7cee02176f7\" class=\"colab-df-container\">\n",
              "    <div>\n",
              "<style scoped>\n",
              "    .dataframe tbody tr th:only-of-type {\n",
              "        vertical-align: middle;\n",
              "    }\n",
              "\n",
              "    .dataframe tbody tr th {\n",
              "        vertical-align: top;\n",
              "    }\n",
              "\n",
              "    .dataframe thead th {\n",
              "        text-align: right;\n",
              "    }\n",
              "</style>\n",
              "<table border=\"1\" class=\"dataframe\">\n",
              "  <thead>\n",
              "    <tr style=\"text-align: right;\">\n",
              "      <th></th>\n",
              "      <th>article</th>\n",
              "      <th>highlights</th>\n",
              "      <th>GroupID</th>\n",
              "    </tr>\n",
              "  </thead>\n",
              "  <tbody>\n",
              "    <tr>\n",
              "      <th>2533</th>\n",
              "      <td>a scent could be associated with food, and the...</td>\n",
              "      <td>A Boston-area dog ate three of her owner's wri...</td>\n",
              "      <td>201</td>\n",
              "    </tr>\n",
              "    <tr>\n",
              "      <th>2532</th>\n",
              "      <td>each week of dogs ingesting foreign objects, a...</td>\n",
              "      <td>A Boston-area dog ate three of her owner's wri...</td>\n",
              "      <td>201</td>\n",
              "    </tr>\n",
              "    <tr>\n",
              "      <th>2530</th>\n",
              "      <td>(CNN)You might call her a watchdog, because th...</td>\n",
              "      <td>A Boston-area dog ate three of her owner's wri...</td>\n",
              "      <td>201</td>\n",
              "    </tr>\n",
              "    <tr>\n",
              "      <th>2531</th>\n",
              "      <td>emergency and specialty hospital, where a vete...</td>\n",
              "      <td>A Boston-area dog ate three of her owner's wri...</td>\n",
              "      <td>201</td>\n",
              "    </tr>\n",
              "    <tr>\n",
              "      <th>2534</th>\n",
              "      <td>the timing of this whole incident is a little ...</td>\n",
              "      <td>A Boston-area dog ate three of her owner's wri...</td>\n",
              "      <td>201</td>\n",
              "    </tr>\n",
              "  </tbody>\n",
              "</table>\n",
              "</div>\n",
              "    <div class=\"colab-df-buttons\">\n",
              "\n",
              "  <div class=\"colab-df-container\">\n",
              "    <button class=\"colab-df-convert\" onclick=\"convertToInteractive('df-ae5e7fdd-1225-45ad-82e5-b7cee02176f7')\"\n",
              "            title=\"Convert this dataframe to an interactive table.\"\n",
              "            style=\"display:none;\">\n",
              "\n",
              "  <svg xmlns=\"http://www.w3.org/2000/svg\" height=\"24px\" viewBox=\"0 -960 960 960\">\n",
              "    <path d=\"M120-120v-720h720v720H120Zm60-500h600v-160H180v160Zm220 220h160v-160H400v160Zm0 220h160v-160H400v160ZM180-400h160v-160H180v160Zm440 0h160v-160H620v160ZM180-180h160v-160H180v160Zm440 0h160v-160H620v160Z\"/>\n",
              "  </svg>\n",
              "    </button>\n",
              "\n",
              "  <style>\n",
              "    .colab-df-container {\n",
              "      display:flex;\n",
              "      gap: 12px;\n",
              "    }\n",
              "\n",
              "    .colab-df-convert {\n",
              "      background-color: #E8F0FE;\n",
              "      border: none;\n",
              "      border-radius: 50%;\n",
              "      cursor: pointer;\n",
              "      display: none;\n",
              "      fill: #1967D2;\n",
              "      height: 32px;\n",
              "      padding: 0 0 0 0;\n",
              "      width: 32px;\n",
              "    }\n",
              "\n",
              "    .colab-df-convert:hover {\n",
              "      background-color: #E2EBFA;\n",
              "      box-shadow: 0px 1px 2px rgba(60, 64, 67, 0.3), 0px 1px 3px 1px rgba(60, 64, 67, 0.15);\n",
              "      fill: #174EA6;\n",
              "    }\n",
              "\n",
              "    .colab-df-buttons div {\n",
              "      margin-bottom: 4px;\n",
              "    }\n",
              "\n",
              "    [theme=dark] .colab-df-convert {\n",
              "      background-color: #3B4455;\n",
              "      fill: #D2E3FC;\n",
              "    }\n",
              "\n",
              "    [theme=dark] .colab-df-convert:hover {\n",
              "      background-color: #434B5C;\n",
              "      box-shadow: 0px 1px 3px 1px rgba(0, 0, 0, 0.15);\n",
              "      filter: drop-shadow(0px 1px 2px rgba(0, 0, 0, 0.3));\n",
              "      fill: #FFFFFF;\n",
              "    }\n",
              "  </style>\n",
              "\n",
              "    <script>\n",
              "      const buttonEl =\n",
              "        document.querySelector('#df-ae5e7fdd-1225-45ad-82e5-b7cee02176f7 button.colab-df-convert');\n",
              "      buttonEl.style.display =\n",
              "        google.colab.kernel.accessAllowed ? 'block' : 'none';\n",
              "\n",
              "      async function convertToInteractive(key) {\n",
              "        const element = document.querySelector('#df-ae5e7fdd-1225-45ad-82e5-b7cee02176f7');\n",
              "        const dataTable =\n",
              "          await google.colab.kernel.invokeFunction('convertToInteractive',\n",
              "                                                    [key], {});\n",
              "        if (!dataTable) return;\n",
              "\n",
              "        const docLinkHtml = 'Like what you see? Visit the ' +\n",
              "          '<a target=\"_blank\" href=https://colab.research.google.com/notebooks/data_table.ipynb>data table notebook</a>'\n",
              "          + ' to learn more about interactive tables.';\n",
              "        element.innerHTML = '';\n",
              "        dataTable['output_type'] = 'display_data';\n",
              "        await google.colab.output.renderOutput(dataTable, element);\n",
              "        const docLink = document.createElement('div');\n",
              "        docLink.innerHTML = docLinkHtml;\n",
              "        element.appendChild(docLink);\n",
              "      }\n",
              "    </script>\n",
              "  </div>\n",
              "\n",
              "\n",
              "<div id=\"df-b5f80cd7-f2ff-4a49-8aa6-a7d5cfc3eb6d\">\n",
              "  <button class=\"colab-df-quickchart\" onclick=\"quickchart('df-b5f80cd7-f2ff-4a49-8aa6-a7d5cfc3eb6d')\"\n",
              "            title=\"Suggest charts\"\n",
              "            style=\"display:none;\">\n",
              "\n",
              "<svg xmlns=\"http://www.w3.org/2000/svg\" height=\"24px\"viewBox=\"0 0 24 24\"\n",
              "     width=\"24px\">\n",
              "    <g>\n",
              "        <path d=\"M19 3H5c-1.1 0-2 .9-2 2v14c0 1.1.9 2 2 2h14c1.1 0 2-.9 2-2V5c0-1.1-.9-2-2-2zM9 17H7v-7h2v7zm4 0h-2V7h2v10zm4 0h-2v-4h2v4z\"/>\n",
              "    </g>\n",
              "</svg>\n",
              "  </button>\n",
              "\n",
              "<style>\n",
              "  .colab-df-quickchart {\n",
              "      --bg-color: #E8F0FE;\n",
              "      --fill-color: #1967D2;\n",
              "      --hover-bg-color: #E2EBFA;\n",
              "      --hover-fill-color: #174EA6;\n",
              "      --disabled-fill-color: #AAA;\n",
              "      --disabled-bg-color: #DDD;\n",
              "  }\n",
              "\n",
              "  [theme=dark] .colab-df-quickchart {\n",
              "      --bg-color: #3B4455;\n",
              "      --fill-color: #D2E3FC;\n",
              "      --hover-bg-color: #434B5C;\n",
              "      --hover-fill-color: #FFFFFF;\n",
              "      --disabled-bg-color: #3B4455;\n",
              "      --disabled-fill-color: #666;\n",
              "  }\n",
              "\n",
              "  .colab-df-quickchart {\n",
              "    background-color: var(--bg-color);\n",
              "    border: none;\n",
              "    border-radius: 50%;\n",
              "    cursor: pointer;\n",
              "    display: none;\n",
              "    fill: var(--fill-color);\n",
              "    height: 32px;\n",
              "    padding: 0;\n",
              "    width: 32px;\n",
              "  }\n",
              "\n",
              "  .colab-df-quickchart:hover {\n",
              "    background-color: var(--hover-bg-color);\n",
              "    box-shadow: 0 1px 2px rgba(60, 64, 67, 0.3), 0 1px 3px 1px rgba(60, 64, 67, 0.15);\n",
              "    fill: var(--button-hover-fill-color);\n",
              "  }\n",
              "\n",
              "  .colab-df-quickchart-complete:disabled,\n",
              "  .colab-df-quickchart-complete:disabled:hover {\n",
              "    background-color: var(--disabled-bg-color);\n",
              "    fill: var(--disabled-fill-color);\n",
              "    box-shadow: none;\n",
              "  }\n",
              "\n",
              "  .colab-df-spinner {\n",
              "    border: 2px solid var(--fill-color);\n",
              "    border-color: transparent;\n",
              "    border-bottom-color: var(--fill-color);\n",
              "    animation:\n",
              "      spin 1s steps(1) infinite;\n",
              "  }\n",
              "\n",
              "  @keyframes spin {\n",
              "    0% {\n",
              "      border-color: transparent;\n",
              "      border-bottom-color: var(--fill-color);\n",
              "      border-left-color: var(--fill-color);\n",
              "    }\n",
              "    20% {\n",
              "      border-color: transparent;\n",
              "      border-left-color: var(--fill-color);\n",
              "      border-top-color: var(--fill-color);\n",
              "    }\n",
              "    30% {\n",
              "      border-color: transparent;\n",
              "      border-left-color: var(--fill-color);\n",
              "      border-top-color: var(--fill-color);\n",
              "      border-right-color: var(--fill-color);\n",
              "    }\n",
              "    40% {\n",
              "      border-color: transparent;\n",
              "      border-right-color: var(--fill-color);\n",
              "      border-top-color: var(--fill-color);\n",
              "    }\n",
              "    60% {\n",
              "      border-color: transparent;\n",
              "      border-right-color: var(--fill-color);\n",
              "    }\n",
              "    80% {\n",
              "      border-color: transparent;\n",
              "      border-right-color: var(--fill-color);\n",
              "      border-bottom-color: var(--fill-color);\n",
              "    }\n",
              "    90% {\n",
              "      border-color: transparent;\n",
              "      border-bottom-color: var(--fill-color);\n",
              "    }\n",
              "  }\n",
              "</style>\n",
              "\n",
              "  <script>\n",
              "    async function quickchart(key) {\n",
              "      const quickchartButtonEl =\n",
              "        document.querySelector('#' + key + ' button');\n",
              "      quickchartButtonEl.disabled = true;  // To prevent multiple clicks.\n",
              "      quickchartButtonEl.classList.add('colab-df-spinner');\n",
              "      try {\n",
              "        const charts = await google.colab.kernel.invokeFunction(\n",
              "            'suggestCharts', [key], {});\n",
              "      } catch (error) {\n",
              "        console.error('Error during call to suggestCharts:', error);\n",
              "      }\n",
              "      quickchartButtonEl.classList.remove('colab-df-spinner');\n",
              "      quickchartButtonEl.classList.add('colab-df-quickchart-complete');\n",
              "    }\n",
              "    (() => {\n",
              "      let quickchartButtonEl =\n",
              "        document.querySelector('#df-b5f80cd7-f2ff-4a49-8aa6-a7d5cfc3eb6d button');\n",
              "      quickchartButtonEl.style.display =\n",
              "        google.colab.kernel.accessAllowed ? 'block' : 'none';\n",
              "    })();\n",
              "  </script>\n",
              "</div>\n",
              "    </div>\n",
              "  </div>\n"
            ]
          },
          "metadata": {},
          "execution_count": 53
        }
      ]
    },
    {
      "cell_type": "markdown",
      "source": [
        "## Loading QA dataframe"
      ],
      "metadata": {
        "id": "KIhJnVzRZzql"
      }
    },
    {
      "cell_type": "code",
      "source": [
        "question_answer_df = pd.DataFrame(qa_test_data, columns=['article', 'question', \"answer\"])\n",
        "number_of_groups_qa = question_answer_df.groupby('question').ngroup()\n",
        "question_answer_df['GroupID'] = number_of_groups_qa + 1\n",
        "question_answer_df = question_answer_df.sort_values(by='GroupID')\n",
        "question_answer_df = question_answer_df[(question_answer_df['GroupID'] > number_of_data_inputs) & (question_answer_df['GroupID'] <= 2 * number_of_data_inputs)]\n",
        "question_answer_df.head()"
      ],
      "metadata": {
        "colab": {
          "base_uri": "https://localhost:8080/",
          "height": 206
        },
        "id": "m-ZXS9g5mPjl",
        "outputId": "3fe1fd28-cd0f-44da-8bce-96aa9acae0f9",
        "execution": {
          "iopub.status.busy": "2023-12-10T21:54:29.001897Z",
          "iopub.execute_input": "2023-12-10T21:54:29.002277Z",
          "iopub.status.idle": "2023-12-10T21:54:29.028592Z",
          "shell.execute_reply.started": "2023-12-10T21:54:29.002249Z",
          "shell.execute_reply": "2023-12-10T21:54:29.027693Z"
        },
        "trusted": true
      },
      "execution_count": 54,
      "outputs": [
        {
          "output_type": "execute_result",
          "data": {
            "text/plain": [
              "                                                article  \\\n",
              "2549  Trade liberalization may shift economic inequa...   \n",
              "2550  that low-skilled jobs have been replaced by ma...   \n",
              "2377  Jacksonville is the most populous city in Flor...   \n",
              "1691  In humans, this response is activated by compl...   \n",
              "4422  In particular, this norm gets smaller when a n...   \n",
              "\n",
              "                                               question              answer  \\\n",
              "2549  Compared to other causes, the effect of trade ...               minor   \n",
              "2550  Compared to other causes, the effect of trade ...               minor   \n",
              "2377  Compared to the rest of Florida, how does Jack...             largest   \n",
              "1691  Complement proteins bind to what kind of molec...       carbohydrates   \n",
              "4422  Completing Q with respect to what will produce...  the absolute value   \n",
              "\n",
              "      GroupID  \n",
              "2549      201  \n",
              "2550      201  \n",
              "2377      202  \n",
              "1691      203  \n",
              "4422      204  "
            ],
            "text/html": [
              "\n",
              "  <div id=\"df-9474857e-9424-4c60-812f-ab0bf06ffe36\" class=\"colab-df-container\">\n",
              "    <div>\n",
              "<style scoped>\n",
              "    .dataframe tbody tr th:only-of-type {\n",
              "        vertical-align: middle;\n",
              "    }\n",
              "\n",
              "    .dataframe tbody tr th {\n",
              "        vertical-align: top;\n",
              "    }\n",
              "\n",
              "    .dataframe thead th {\n",
              "        text-align: right;\n",
              "    }\n",
              "</style>\n",
              "<table border=\"1\" class=\"dataframe\">\n",
              "  <thead>\n",
              "    <tr style=\"text-align: right;\">\n",
              "      <th></th>\n",
              "      <th>article</th>\n",
              "      <th>question</th>\n",
              "      <th>answer</th>\n",
              "      <th>GroupID</th>\n",
              "    </tr>\n",
              "  </thead>\n",
              "  <tbody>\n",
              "    <tr>\n",
              "      <th>2549</th>\n",
              "      <td>Trade liberalization may shift economic inequa...</td>\n",
              "      <td>Compared to other causes, the effect of trade ...</td>\n",
              "      <td>minor</td>\n",
              "      <td>201</td>\n",
              "    </tr>\n",
              "    <tr>\n",
              "      <th>2550</th>\n",
              "      <td>that low-skilled jobs have been replaced by ma...</td>\n",
              "      <td>Compared to other causes, the effect of trade ...</td>\n",
              "      <td>minor</td>\n",
              "      <td>201</td>\n",
              "    </tr>\n",
              "    <tr>\n",
              "      <th>2377</th>\n",
              "      <td>Jacksonville is the most populous city in Flor...</td>\n",
              "      <td>Compared to the rest of Florida, how does Jack...</td>\n",
              "      <td>largest</td>\n",
              "      <td>202</td>\n",
              "    </tr>\n",
              "    <tr>\n",
              "      <th>1691</th>\n",
              "      <td>In humans, this response is activated by compl...</td>\n",
              "      <td>Complement proteins bind to what kind of molec...</td>\n",
              "      <td>carbohydrates</td>\n",
              "      <td>203</td>\n",
              "    </tr>\n",
              "    <tr>\n",
              "      <th>4422</th>\n",
              "      <td>In particular, this norm gets smaller when a n...</td>\n",
              "      <td>Completing Q with respect to what will produce...</td>\n",
              "      <td>the absolute value</td>\n",
              "      <td>204</td>\n",
              "    </tr>\n",
              "  </tbody>\n",
              "</table>\n",
              "</div>\n",
              "    <div class=\"colab-df-buttons\">\n",
              "\n",
              "  <div class=\"colab-df-container\">\n",
              "    <button class=\"colab-df-convert\" onclick=\"convertToInteractive('df-9474857e-9424-4c60-812f-ab0bf06ffe36')\"\n",
              "            title=\"Convert this dataframe to an interactive table.\"\n",
              "            style=\"display:none;\">\n",
              "\n",
              "  <svg xmlns=\"http://www.w3.org/2000/svg\" height=\"24px\" viewBox=\"0 -960 960 960\">\n",
              "    <path d=\"M120-120v-720h720v720H120Zm60-500h600v-160H180v160Zm220 220h160v-160H400v160Zm0 220h160v-160H400v160ZM180-400h160v-160H180v160Zm440 0h160v-160H620v160ZM180-180h160v-160H180v160Zm440 0h160v-160H620v160Z\"/>\n",
              "  </svg>\n",
              "    </button>\n",
              "\n",
              "  <style>\n",
              "    .colab-df-container {\n",
              "      display:flex;\n",
              "      gap: 12px;\n",
              "    }\n",
              "\n",
              "    .colab-df-convert {\n",
              "      background-color: #E8F0FE;\n",
              "      border: none;\n",
              "      border-radius: 50%;\n",
              "      cursor: pointer;\n",
              "      display: none;\n",
              "      fill: #1967D2;\n",
              "      height: 32px;\n",
              "      padding: 0 0 0 0;\n",
              "      width: 32px;\n",
              "    }\n",
              "\n",
              "    .colab-df-convert:hover {\n",
              "      background-color: #E2EBFA;\n",
              "      box-shadow: 0px 1px 2px rgba(60, 64, 67, 0.3), 0px 1px 3px 1px rgba(60, 64, 67, 0.15);\n",
              "      fill: #174EA6;\n",
              "    }\n",
              "\n",
              "    .colab-df-buttons div {\n",
              "      margin-bottom: 4px;\n",
              "    }\n",
              "\n",
              "    [theme=dark] .colab-df-convert {\n",
              "      background-color: #3B4455;\n",
              "      fill: #D2E3FC;\n",
              "    }\n",
              "\n",
              "    [theme=dark] .colab-df-convert:hover {\n",
              "      background-color: #434B5C;\n",
              "      box-shadow: 0px 1px 3px 1px rgba(0, 0, 0, 0.15);\n",
              "      filter: drop-shadow(0px 1px 2px rgba(0, 0, 0, 0.3));\n",
              "      fill: #FFFFFF;\n",
              "    }\n",
              "  </style>\n",
              "\n",
              "    <script>\n",
              "      const buttonEl =\n",
              "        document.querySelector('#df-9474857e-9424-4c60-812f-ab0bf06ffe36 button.colab-df-convert');\n",
              "      buttonEl.style.display =\n",
              "        google.colab.kernel.accessAllowed ? 'block' : 'none';\n",
              "\n",
              "      async function convertToInteractive(key) {\n",
              "        const element = document.querySelector('#df-9474857e-9424-4c60-812f-ab0bf06ffe36');\n",
              "        const dataTable =\n",
              "          await google.colab.kernel.invokeFunction('convertToInteractive',\n",
              "                                                    [key], {});\n",
              "        if (!dataTable) return;\n",
              "\n",
              "        const docLinkHtml = 'Like what you see? Visit the ' +\n",
              "          '<a target=\"_blank\" href=https://colab.research.google.com/notebooks/data_table.ipynb>data table notebook</a>'\n",
              "          + ' to learn more about interactive tables.';\n",
              "        element.innerHTML = '';\n",
              "        dataTable['output_type'] = 'display_data';\n",
              "        await google.colab.output.renderOutput(dataTable, element);\n",
              "        const docLink = document.createElement('div');\n",
              "        docLink.innerHTML = docLinkHtml;\n",
              "        element.appendChild(docLink);\n",
              "      }\n",
              "    </script>\n",
              "  </div>\n",
              "\n",
              "\n",
              "<div id=\"df-3cb9fca2-2b9a-4860-ab77-a6af54c1814e\">\n",
              "  <button class=\"colab-df-quickchart\" onclick=\"quickchart('df-3cb9fca2-2b9a-4860-ab77-a6af54c1814e')\"\n",
              "            title=\"Suggest charts\"\n",
              "            style=\"display:none;\">\n",
              "\n",
              "<svg xmlns=\"http://www.w3.org/2000/svg\" height=\"24px\"viewBox=\"0 0 24 24\"\n",
              "     width=\"24px\">\n",
              "    <g>\n",
              "        <path d=\"M19 3H5c-1.1 0-2 .9-2 2v14c0 1.1.9 2 2 2h14c1.1 0 2-.9 2-2V5c0-1.1-.9-2-2-2zM9 17H7v-7h2v7zm4 0h-2V7h2v10zm4 0h-2v-4h2v4z\"/>\n",
              "    </g>\n",
              "</svg>\n",
              "  </button>\n",
              "\n",
              "<style>\n",
              "  .colab-df-quickchart {\n",
              "      --bg-color: #E8F0FE;\n",
              "      --fill-color: #1967D2;\n",
              "      --hover-bg-color: #E2EBFA;\n",
              "      --hover-fill-color: #174EA6;\n",
              "      --disabled-fill-color: #AAA;\n",
              "      --disabled-bg-color: #DDD;\n",
              "  }\n",
              "\n",
              "  [theme=dark] .colab-df-quickchart {\n",
              "      --bg-color: #3B4455;\n",
              "      --fill-color: #D2E3FC;\n",
              "      --hover-bg-color: #434B5C;\n",
              "      --hover-fill-color: #FFFFFF;\n",
              "      --disabled-bg-color: #3B4455;\n",
              "      --disabled-fill-color: #666;\n",
              "  }\n",
              "\n",
              "  .colab-df-quickchart {\n",
              "    background-color: var(--bg-color);\n",
              "    border: none;\n",
              "    border-radius: 50%;\n",
              "    cursor: pointer;\n",
              "    display: none;\n",
              "    fill: var(--fill-color);\n",
              "    height: 32px;\n",
              "    padding: 0;\n",
              "    width: 32px;\n",
              "  }\n",
              "\n",
              "  .colab-df-quickchart:hover {\n",
              "    background-color: var(--hover-bg-color);\n",
              "    box-shadow: 0 1px 2px rgba(60, 64, 67, 0.3), 0 1px 3px 1px rgba(60, 64, 67, 0.15);\n",
              "    fill: var(--button-hover-fill-color);\n",
              "  }\n",
              "\n",
              "  .colab-df-quickchart-complete:disabled,\n",
              "  .colab-df-quickchart-complete:disabled:hover {\n",
              "    background-color: var(--disabled-bg-color);\n",
              "    fill: var(--disabled-fill-color);\n",
              "    box-shadow: none;\n",
              "  }\n",
              "\n",
              "  .colab-df-spinner {\n",
              "    border: 2px solid var(--fill-color);\n",
              "    border-color: transparent;\n",
              "    border-bottom-color: var(--fill-color);\n",
              "    animation:\n",
              "      spin 1s steps(1) infinite;\n",
              "  }\n",
              "\n",
              "  @keyframes spin {\n",
              "    0% {\n",
              "      border-color: transparent;\n",
              "      border-bottom-color: var(--fill-color);\n",
              "      border-left-color: var(--fill-color);\n",
              "    }\n",
              "    20% {\n",
              "      border-color: transparent;\n",
              "      border-left-color: var(--fill-color);\n",
              "      border-top-color: var(--fill-color);\n",
              "    }\n",
              "    30% {\n",
              "      border-color: transparent;\n",
              "      border-left-color: var(--fill-color);\n",
              "      border-top-color: var(--fill-color);\n",
              "      border-right-color: var(--fill-color);\n",
              "    }\n",
              "    40% {\n",
              "      border-color: transparent;\n",
              "      border-right-color: var(--fill-color);\n",
              "      border-top-color: var(--fill-color);\n",
              "    }\n",
              "    60% {\n",
              "      border-color: transparent;\n",
              "      border-right-color: var(--fill-color);\n",
              "    }\n",
              "    80% {\n",
              "      border-color: transparent;\n",
              "      border-right-color: var(--fill-color);\n",
              "      border-bottom-color: var(--fill-color);\n",
              "    }\n",
              "    90% {\n",
              "      border-color: transparent;\n",
              "      border-bottom-color: var(--fill-color);\n",
              "    }\n",
              "  }\n",
              "</style>\n",
              "\n",
              "  <script>\n",
              "    async function quickchart(key) {\n",
              "      const quickchartButtonEl =\n",
              "        document.querySelector('#' + key + ' button');\n",
              "      quickchartButtonEl.disabled = true;  // To prevent multiple clicks.\n",
              "      quickchartButtonEl.classList.add('colab-df-spinner');\n",
              "      try {\n",
              "        const charts = await google.colab.kernel.invokeFunction(\n",
              "            'suggestCharts', [key], {});\n",
              "      } catch (error) {\n",
              "        console.error('Error during call to suggestCharts:', error);\n",
              "      }\n",
              "      quickchartButtonEl.classList.remove('colab-df-spinner');\n",
              "      quickchartButtonEl.classList.add('colab-df-quickchart-complete');\n",
              "    }\n",
              "    (() => {\n",
              "      let quickchartButtonEl =\n",
              "        document.querySelector('#df-3cb9fca2-2b9a-4860-ab77-a6af54c1814e button');\n",
              "      quickchartButtonEl.style.display =\n",
              "        google.colab.kernel.accessAllowed ? 'block' : 'none';\n",
              "    })();\n",
              "  </script>\n",
              "</div>\n",
              "    </div>\n",
              "  </div>\n"
            ]
          },
          "metadata": {},
          "execution_count": 54
        }
      ]
    },
    {
      "cell_type": "markdown",
      "source": [
        "# Model classes"
      ],
      "metadata": {
        "id": "sUrhmRhYi9pB"
      }
    },
    {
      "cell_type": "code",
      "source": [
        "# # Architecture Configuration\n",
        "\n",
        "n_head = 6\n",
        "num_heads = 6\n",
        "n_embd = 512\n",
        "n_layer = 6\n",
        "dropout = 0.2\n",
        "block_size = 256\n",
        "batch_size = 40\n",
        "learning_rate = 3e-4\n",
        "\n",
        "vocab_size = encoder_1.n_vocab\n",
        "\n",
        "class Head(nn.Module):\n",
        "    def __init__(self, head_size):\n",
        "        super().__init__()\n",
        "        # Linear layers for key, query, and value\n",
        "        self.linear_layers = nn.ModuleList([\n",
        "            nn.Linear(n_embd, head_size, bias=False) for _ in range(3)\n",
        "        ])\n",
        "        self.key_layer, self.query_layer, self.value_layer = self.linear_layers\n",
        "        # Lower triangular mask for attention\n",
        "        identity_matrix = torch.eye(block_size)\n",
        "        lower_triangular_mask = torch.tril(identity_matrix)\n",
        "        self.register_buffer('tril', lower_triangular_mask)\n",
        "        self.drop = nn.Dropout(dropout)\n",
        "\n",
        "    def forward(self, x):\n",
        "        # Self-attention mechanism\n",
        "        batch_size = x.shape[0]\n",
        "        time_steps = x.shape[1]\n",
        "        channels = x.shape[2]\n",
        "        key, query = self.key_layer(x), self.query_layer(x)\n",
        "        key_transposed = key.transpose(-2, -1)\n",
        "        attention_scores = torch.matmul(query, key_transposed) / torch.sqrt(torch.tensor(key.shape[-1], dtype=torch.float32))\n",
        "        attention_mask = torch.where(self.tril[:time_steps, :time_steps] == 0, float('-inf'), attention_scores)\n",
        "        attention_probs = self.drop(torch.nn.functional.log_softmax(attention_mask, dim=-1).exp())\n",
        "        value = self.value_layer(x)\n",
        "        output = attention_probs @ value\n",
        "        return output\n",
        "\n",
        "# Define Multi-Head Attention module\n",
        "class MultiHeadAttention(nn.Module):\n",
        "    \"\"\" Multiple heads of self-attention in parallel \"\"\"\n",
        "    def __init__(self, num_heads, head_size):\n",
        "        super().__init__()\n",
        "        self.heads = nn.ModuleList()\n",
        "        for _ in range(num_heads):\n",
        "            self.heads.append(Head(head_size))\n",
        "        self.projection = nn.Linear(head_size * num_heads, n_embd)\n",
        "        self.drop = nn.Dropout(dropout)\n",
        "\n",
        "    def forward(self, x):\n",
        "        # Combine multiple self-attention heads\n",
        "        individual_heads = [head_module(x) for head_module in self.heads]\n",
        "        concatenated_heads_expanded = torch.cat(individual_heads, dim=-1)\n",
        "        projected_out = self.projection(concatenated_heads_expanded)\n",
        "        dropped_out = self.drop(projected_out)\n",
        "        return dropped_out\n",
        "\n",
        "# Define FeedForward module\n",
        "class FeedForward(nn.Module):\n",
        "    def __init__(self, n_embd, dropout):\n",
        "        super(FeedForward, self).__init__()\n",
        "        self.layer1 = nn.Linear(n_embd, 4 * n_embd)\n",
        "        self.relu = nn.ReLU()\n",
        "        self.layer2 = nn.Linear(4 * n_embd, n_embd)\n",
        "        self.dropout = nn.Dropout(dropout)\n",
        "\n",
        "    def forward(self, x):\n",
        "        # FeedForward neural network\n",
        "        x = self.layer1(x)\n",
        "        x = self.relu(x)\n",
        "        x = self.layer2(x)\n",
        "        x = self.dropout(x)\n",
        "        return x\n",
        "\n",
        "# Define a Block in the GPT model\n",
        "class Block(nn.Module):\n",
        "    def __init__(self, n_embd, n_head):\n",
        "        super().__init__()\n",
        "        self.self_attention = MultiHeadAttention(n_head, (n_embd // n_head))\n",
        "        self.feed_forward = FeedForward(n_embd, dropout)\n",
        "        self.linearlayer1, self.linearlayer2 = nn.LayerNorm(n_embd), nn.LayerNorm(n_embd)\n",
        "\n",
        "    def forward(self, x):\n",
        "        # Block in the GPT model\n",
        "        x = x + self.self_attention(self.linearlayer1(x)) + self.feed_forward(self.linearlayer2(x))\n",
        "        return x\n",
        "\n",
        "# Define the GPT Language Model\n",
        "class GPTLanguageModel(nn.Module):\n",
        "    def __init__(self):\n",
        "        super().__init__()\n",
        "        self.token_emb_tbl = nn.Embedding(vocab_size, n_embd)\n",
        "        self.pos_emb_tbl = nn.Embedding(block_size, n_embd)\n",
        "        attention_blocks = [Block(n_embd, n_head=n_head) for _ in range(n_layer)]\n",
        "        self.attention_blocks = nn.Sequential(*attention_blocks)\n",
        "        self.layer_norm_final = nn.LayerNorm(n_embd)\n",
        "        self.mode_head = nn.Linear(n_embd, vocab_size)\n",
        "        self.apply(self._init_weights)\n",
        "\n",
        "    def _init_weights(self, module):\n",
        "        # Initialize weights for linear and embedding layers\n",
        "        if isinstance(module, (nn.Linear, nn.Embedding)):\n",
        "            torch.nn.init.normal_(module.weight, mean=0.0, std=0.02)\n",
        "            torch.nn.init.zeros_(module.bias) if hasattr(module, 'bias') and module.bias is not None else None\n",
        "\n",
        "    def forward(self, idx, targets=None):\n",
        "        # Forward pass through the GPT model\n",
        "        embedding_indices = idx\n",
        "        token_embeddings = self.token_emb_tbl(embedding_indices)\n",
        "        pos_indices = torch.arange(idx.shape[1], device=device)\n",
        "        positional_embeddings = self.pos_emb_tbl(pos_indices).unsqueeze(0)\n",
        "        normalized_embeddings = self.layer_norm_final(self.attention_blocks(token_embeddings + positional_embeddings.expand_as(token_embeddings)))\n",
        "        logits = self.mode_head(normalized_embeddings)\n",
        "        loss = F.cross_entropy(logits.flatten(0, 1), targets.flatten()) if targets is not None else None\n",
        "        return logits, loss\n",
        "\n",
        "    def generate(self, idx, max_new_tokens):\n",
        "        # Generate new tokens\n",
        "        for _ in range(max_new_tokens):\n",
        "            currentlogits, _ = self.forward(idx[:, -block_size:])\n",
        "            currentlogits = currentlogits[:, -1, :]\n",
        "            nexttoken = torch.multinomial(F.softmax(currentlogits, dim=-1), num_samples=1).view(-1, 1)\n",
        "            idx = torch.hstack((idx, nexttoken))\n",
        "        return idx\n"
      ],
      "metadata": {
        "execution": {
          "iopub.status.busy": "2023-12-10T18:26:30.752200Z",
          "iopub.execute_input": "2023-12-10T18:26:30.752450Z",
          "iopub.status.idle": "2023-12-10T18:26:30.781165Z",
          "shell.execute_reply.started": "2023-12-10T18:26:30.752428Z",
          "shell.execute_reply": "2023-12-10T18:26:30.780130Z"
        },
        "trusted": true,
        "id": "5Mjmjk6baDVG"
      },
      "execution_count": 55,
      "outputs": []
    },
    {
      "cell_type": "code",
      "source": [
        "def generate_tokens_greedily(initial_indices, newtokens):\n",
        "  for i in range(newtokens):\n",
        "        indices_cond = initial_indices[:, -block_size:]\n",
        "        with torch.no_grad():\n",
        "          output_logits, loss = model(indices_cond)\n",
        "        output_logits = output_logits[:, -1, :]\n",
        "        prob = torch.nn.functional.softmax(output_logits, dim=-1)\n",
        "        max_indices = torch.max(prob, dim=-1, keepdim=True)[1]\n",
        "        initial_indices = torch.cat((initial_indices, max_indices), dim=1)\n",
        "  return initial_indices"
      ],
      "metadata": {
        "id": "38qTUJEcb9De"
      },
      "execution_count": 57,
      "outputs": []
    },
    {
      "cell_type": "markdown",
      "source": [
        "# Wandb Run"
      ],
      "metadata": {
        "id": "_U-EnuOfcISE"
      }
    },
    {
      "cell_type": "code",
      "source": [
        "# wandb.finish()\n",
        "import wandb\n",
        "wandb.login(key=\"bc23ae38b83159616a86ecc84dc25bc2e82d4da4\")\n",
        "\n",
        "run = wandb.init(\n",
        "    name = \"hw5_finetuning-Kaggle-2\", ## Wandb creates random run names if you skip this field\n",
        "#     reinit = True,  ### Allows reinitalizing runs when you re-run this cell\n",
        "    id = \"ii86awr7\",  # Insert specific run id here if you want to resume a previous run\n",
        "    resume = \"must\",  ### You need this to resume previous runs, but comment out reinit = True when using this\n",
        "    project = \"hw5-ablations\")"
      ],
      "metadata": {
        "colab": {
          "base_uri": "https://localhost:8080/",
          "height": 350,
          "referenced_widgets": [
            "aa787d0b446c43c7b64002d6716466de",
            "10ba5ab955474f57b8cf9138cf4239e2",
            "c801f9a8205b44d685afa555809e2531",
            "3b0e005ccea94a0b8d1a03b2b06f18d7",
            "800676920e5f43658658f3e648152fa9",
            "5f08ec1c863b4b249644649fd44999c9",
            "ba9d044c7af84f69a29b853a9bf7db59",
            "1a6e6ec8a6c74883b986e2056bf62f54"
          ]
        },
        "id": "sO0I9qQhMdYV",
        "outputId": "293db63d-efae-492a-dfb8-5373a967623b",
        "execution": {
          "iopub.status.busy": "2023-12-10T21:55:38.617912Z",
          "iopub.execute_input": "2023-12-10T21:55:38.618310Z",
          "iopub.status.idle": "2023-12-10T21:55:43.978419Z",
          "shell.execute_reply.started": "2023-12-10T21:55:38.618277Z",
          "shell.execute_reply": "2023-12-10T21:55:43.977280Z"
        },
        "trusted": true
      },
      "execution_count": 46,
      "outputs": [
        {
          "output_type": "stream",
          "name": "stderr",
          "text": [
            "\u001b[34m\u001b[1mwandb\u001b[0m: \u001b[33mWARNING\u001b[0m Calling wandb.login() after wandb.init() has no effect.\n"
          ]
        },
        {
          "output_type": "display_data",
          "data": {
            "text/plain": [
              "<IPython.core.display.HTML object>"
            ],
            "text/html": [
              "Finishing last run (ID:ii86awr7) before initializing another..."
            ]
          },
          "metadata": {}
        },
        {
          "output_type": "display_data",
          "data": {
            "text/plain": [
              "VBox(children=(Label(value='0.000 MB of 0.000 MB uploaded\\r'), FloatProgress(value=1.0, max=1.0)))"
            ],
            "application/vnd.jupyter.widget-view+json": {
              "version_major": 2,
              "version_minor": 0,
              "model_id": "aa787d0b446c43c7b64002d6716466de"
            }
          },
          "metadata": {}
        },
        {
          "output_type": "display_data",
          "data": {
            "text/plain": [
              "<IPython.core.display.HTML object>"
            ],
            "text/html": [
              "<style>\n",
              "    table.wandb td:nth-child(1) { padding: 0 10px; text-align: left ; width: auto;} td:nth-child(2) {text-align: left ; width: 100%}\n",
              "    .wandb-row { display: flex; flex-direction: row; flex-wrap: wrap; justify-content: flex-start; width: 100% }\n",
              "    .wandb-col { display: flex; flex-direction: column; flex-basis: 100%; flex: 1; padding: 10px; }\n",
              "    </style>\n",
              "<div class=\"wandb-row\"><div class=\"wandb-col\"><h3>Run summary:</h3><br/><table class=\"wandb\"><tr><td>train_loss</td><td>2.76955</td></tr><tr><td>valid_loss</td><td>3.24345</td></tr></table><br/></div></div>"
            ]
          },
          "metadata": {}
        },
        {
          "output_type": "display_data",
          "data": {
            "text/plain": [
              "<IPython.core.display.HTML object>"
            ],
            "text/html": [
              " View run <strong style=\"color:#cdcd00\">hw5_finetuning-Kaggle-2</strong> at: <a href='https://wandb.ai/sdhote/hw5-ablations/runs/ii86awr7' target=\"_blank\">https://wandb.ai/sdhote/hw5-ablations/runs/ii86awr7</a><br/>Synced 3 W&B file(s), 0 media file(s), 0 artifact file(s) and 1 other file(s)"
            ]
          },
          "metadata": {}
        },
        {
          "output_type": "display_data",
          "data": {
            "text/plain": [
              "<IPython.core.display.HTML object>"
            ],
            "text/html": [
              "Find logs at: <code>./wandb/run-20231213_004332-ii86awr7/logs</code>"
            ]
          },
          "metadata": {}
        },
        {
          "output_type": "display_data",
          "data": {
            "text/plain": [
              "<IPython.core.display.HTML object>"
            ],
            "text/html": [
              "Successfully finished last run (ID:ii86awr7). Initializing new run:<br/>"
            ]
          },
          "metadata": {}
        },
        {
          "output_type": "display_data",
          "data": {
            "text/plain": [
              "<IPython.core.display.HTML object>"
            ],
            "text/html": [
              "Tracking run with wandb version 0.16.1"
            ]
          },
          "metadata": {}
        },
        {
          "output_type": "display_data",
          "data": {
            "text/plain": [
              "<IPython.core.display.HTML object>"
            ],
            "text/html": [
              "Run data is saved locally in <code>/content/wandb/run-20231213_004631-ii86awr7</code>"
            ]
          },
          "metadata": {}
        },
        {
          "output_type": "display_data",
          "data": {
            "text/plain": [
              "<IPython.core.display.HTML object>"
            ],
            "text/html": [
              "Resuming run <strong><a href='https://wandb.ai/sdhote/hw5-ablations/runs/ii86awr7' target=\"_blank\">hw5_finetuning-Kaggle-2</a></strong> to <a href='https://wandb.ai/sdhote/hw5-ablations' target=\"_blank\">Weights & Biases</a> (<a href='https://wandb.me/run' target=\"_blank\">docs</a>)<br/>"
            ]
          },
          "metadata": {}
        },
        {
          "output_type": "display_data",
          "data": {
            "text/plain": [
              "<IPython.core.display.HTML object>"
            ],
            "text/html": [
              " View project at <a href='https://wandb.ai/sdhote/hw5-ablations' target=\"_blank\">https://wandb.ai/sdhote/hw5-ablations</a>"
            ]
          },
          "metadata": {}
        },
        {
          "output_type": "display_data",
          "data": {
            "text/plain": [
              "<IPython.core.display.HTML object>"
            ],
            "text/html": [
              " View run at <a href='https://wandb.ai/sdhote/hw5-ablations/runs/ii86awr7' target=\"_blank\">https://wandb.ai/sdhote/hw5-ablations/runs/ii86awr7</a>"
            ]
          },
          "metadata": {}
        }
      ]
    },
    {
      "cell_type": "markdown",
      "source": [
        "# Initialize model"
      ],
      "metadata": {
        "id": "GUfsS26taDVH"
      }
    },
    {
      "cell_type": "code",
      "source": [
        "model = GPTLanguageModel()\n",
        "model = model.to(device)\n",
        "optimizer = torch.optim.AdamW(model.parameters(), lr=learning_rate)\n",
        "scheduler = torch.optim.lr_scheduler.ReduceLROnPlateau(optimizer, patience=2, factor =0.1)"
      ],
      "metadata": {
        "id": "AS-NYWtSawoZ",
        "execution": {
          "iopub.status.busy": "2023-12-10T21:55:18.925167Z",
          "iopub.execute_input": "2023-12-10T21:55:18.925543Z",
          "iopub.status.idle": "2023-12-10T21:55:24.764399Z",
          "shell.execute_reply.started": "2023-12-10T21:55:18.925510Z",
          "shell.execute_reply": "2023-12-10T21:55:24.763319Z"
        },
        "trusted": true
      },
      "execution_count": 58,
      "outputs": []
    },
    {
      "cell_type": "code",
      "source": [
        "url = wandb.restore(\"finet2_0_20000_2.8563.pth\").name\n",
        "model.load_state_dict(torch.load(url,map_location=torch.device(device))[\"model_state_dict\"])\n",
        "optimizer = torch.optim.AdamW(model.parameters(), lr=learning_rate)\n",
        "optimizer.load_state_dict(torch.load(url)[\"optimizer_state_dict\"])"
      ],
      "metadata": {
        "id": "uDsCsh1ZOsUg",
        "execution": {
          "iopub.status.busy": "2023-12-10T21:56:27.095183Z",
          "iopub.execute_input": "2023-12-10T21:56:27.096167Z",
          "iopub.status.idle": "2023-12-10T21:56:45.307851Z",
          "shell.execute_reply.started": "2023-12-10T21:56:27.096126Z",
          "shell.execute_reply": "2023-12-10T21:56:45.306657Z"
        },
        "trusted": true
      },
      "execution_count": 59,
      "outputs": []
    },
    {
      "cell_type": "markdown",
      "source": [
        "## Test the model"
      ],
      "metadata": {
        "id": "-COMAXb4PB6k"
      }
    },
    {
      "cell_type": "markdown",
      "source": [
        "### Summary task"
      ],
      "metadata": {
        "id": "MBKUgvZQd4ew"
      }
    },
    {
      "cell_type": "code",
      "source": [
        "eval_model = model.eval()\n",
        "\n",
        "def test_summary(row):\n",
        "  article = row[\"article\"]\n",
        "  temp = article+\"<# generate summary#>\"\n",
        "  article = torch.tensor(encoder_1.encode(temp))\n",
        "  article = torch.unsqueeze(article,0)\n",
        "  index     = generate_tokens_greedily(article.to(device), block_size-article.shape[0])\n",
        "  complete_sentence = encoder_1.decode(index.detach().tolist()[0])\n",
        "  input, output = complete_sentence.split(\"<# generate summary#>\")\n",
        "  return output\n",
        "\n",
        "len_summary_task = len(summary_task_df)\n",
        "for i, r in tqdm(summary_task_df.iterrows(), total=len_summary_task):\n",
        "    summary_task_df.at[i, 'prediction'] = test_summary(r)\n",
        "\n",
        "summary_task_df.to_csv(\"/content/drive/MyDrive/IDL/HW5/Final_code_files/Results/test_summary.csv\",index=False)\n",
        "summary_task_df.head()"
      ],
      "metadata": {
        "id": "qw4BL-NoVoR1",
        "execution": {
          "iopub.status.busy": "2023-12-10T21:57:02.290785Z",
          "iopub.execute_input": "2023-12-10T21:57:02.291597Z",
          "iopub.status.idle": "2023-12-10T21:57:02.301034Z",
          "shell.execute_reply.started": "2023-12-10T21:57:02.291561Z",
          "shell.execute_reply": "2023-12-10T21:57:02.300001Z"
        },
        "trusted": true,
        "colab": {
          "base_uri": "https://localhost:8080/",
          "height": 311
        },
        "outputId": "150d45c7-c866-445d-e593-c670af0bb462"
      },
      "execution_count": 60,
      "outputs": [
        {
          "output_type": "stream",
          "name": "stderr",
          "text": [
            "100%|██████████| 1018/1018 [1:01:45<00:00,  3.64s/it]\n"
          ]
        },
        {
          "output_type": "execute_result",
          "data": {
            "text/plain": [
              "                                                article  \\\n",
              "2533  a scent could be associated with food, and the...   \n",
              "2532  each week of dogs ingesting foreign objects, a...   \n",
              "2530  (CNN)You might call her a watchdog, because th...   \n",
              "2531  emergency and specialty hospital, where a vete...   \n",
              "2534  the timing of this whole incident is a little ...   \n",
              "\n",
              "                                             highlights  GroupID  \\\n",
              "2533  A Boston-area dog ate three of her owner's wri...      201   \n",
              "2532  A Boston-area dog ate three of her owner's wri...      201   \n",
              "2530  A Boston-area dog ate three of her owner's wri...      201   \n",
              "2531  A Boston-area dog ate three of her owner's wri...      201   \n",
              "2534  A Boston-area dog ate three of her owner's wri...      201   \n",
              "\n",
              "                                             prediction  \n",
              "2533  Mocha's owners are concerned about the dog's w...  \n",
              "2532  The dog was found dead in a field in the Newfo...  \n",
              "2530  Doberman's wife, who is the most polite person...  \n",
              "2531  The woman who died in a car accident in Mocha,...  \n",
              "2534  Apple's iPhone 5S has been in the works for th...  "
            ],
            "text/html": [
              "\n",
              "  <div id=\"df-b621ec9b-5959-411c-8289-351b5fc826b4\" class=\"colab-df-container\">\n",
              "    <div>\n",
              "<style scoped>\n",
              "    .dataframe tbody tr th:only-of-type {\n",
              "        vertical-align: middle;\n",
              "    }\n",
              "\n",
              "    .dataframe tbody tr th {\n",
              "        vertical-align: top;\n",
              "    }\n",
              "\n",
              "    .dataframe thead th {\n",
              "        text-align: right;\n",
              "    }\n",
              "</style>\n",
              "<table border=\"1\" class=\"dataframe\">\n",
              "  <thead>\n",
              "    <tr style=\"text-align: right;\">\n",
              "      <th></th>\n",
              "      <th>article</th>\n",
              "      <th>highlights</th>\n",
              "      <th>GroupID</th>\n",
              "      <th>prediction</th>\n",
              "    </tr>\n",
              "  </thead>\n",
              "  <tbody>\n",
              "    <tr>\n",
              "      <th>2533</th>\n",
              "      <td>a scent could be associated with food, and the...</td>\n",
              "      <td>A Boston-area dog ate three of her owner's wri...</td>\n",
              "      <td>201</td>\n",
              "      <td>Mocha's owners are concerned about the dog's w...</td>\n",
              "    </tr>\n",
              "    <tr>\n",
              "      <th>2532</th>\n",
              "      <td>each week of dogs ingesting foreign objects, a...</td>\n",
              "      <td>A Boston-area dog ate three of her owner's wri...</td>\n",
              "      <td>201</td>\n",
              "      <td>The dog was found dead in a field in the Newfo...</td>\n",
              "    </tr>\n",
              "    <tr>\n",
              "      <th>2530</th>\n",
              "      <td>(CNN)You might call her a watchdog, because th...</td>\n",
              "      <td>A Boston-area dog ate three of her owner's wri...</td>\n",
              "      <td>201</td>\n",
              "      <td>Doberman's wife, who is the most polite person...</td>\n",
              "    </tr>\n",
              "    <tr>\n",
              "      <th>2531</th>\n",
              "      <td>emergency and specialty hospital, where a vete...</td>\n",
              "      <td>A Boston-area dog ate three of her owner's wri...</td>\n",
              "      <td>201</td>\n",
              "      <td>The woman who died in a car accident in Mocha,...</td>\n",
              "    </tr>\n",
              "    <tr>\n",
              "      <th>2534</th>\n",
              "      <td>the timing of this whole incident is a little ...</td>\n",
              "      <td>A Boston-area dog ate three of her owner's wri...</td>\n",
              "      <td>201</td>\n",
              "      <td>Apple's iPhone 5S has been in the works for th...</td>\n",
              "    </tr>\n",
              "  </tbody>\n",
              "</table>\n",
              "</div>\n",
              "    <div class=\"colab-df-buttons\">\n",
              "\n",
              "  <div class=\"colab-df-container\">\n",
              "    <button class=\"colab-df-convert\" onclick=\"convertToInteractive('df-b621ec9b-5959-411c-8289-351b5fc826b4')\"\n",
              "            title=\"Convert this dataframe to an interactive table.\"\n",
              "            style=\"display:none;\">\n",
              "\n",
              "  <svg xmlns=\"http://www.w3.org/2000/svg\" height=\"24px\" viewBox=\"0 -960 960 960\">\n",
              "    <path d=\"M120-120v-720h720v720H120Zm60-500h600v-160H180v160Zm220 220h160v-160H400v160Zm0 220h160v-160H400v160ZM180-400h160v-160H180v160Zm440 0h160v-160H620v160ZM180-180h160v-160H180v160Zm440 0h160v-160H620v160Z\"/>\n",
              "  </svg>\n",
              "    </button>\n",
              "\n",
              "  <style>\n",
              "    .colab-df-container {\n",
              "      display:flex;\n",
              "      gap: 12px;\n",
              "    }\n",
              "\n",
              "    .colab-df-convert {\n",
              "      background-color: #E8F0FE;\n",
              "      border: none;\n",
              "      border-radius: 50%;\n",
              "      cursor: pointer;\n",
              "      display: none;\n",
              "      fill: #1967D2;\n",
              "      height: 32px;\n",
              "      padding: 0 0 0 0;\n",
              "      width: 32px;\n",
              "    }\n",
              "\n",
              "    .colab-df-convert:hover {\n",
              "      background-color: #E2EBFA;\n",
              "      box-shadow: 0px 1px 2px rgba(60, 64, 67, 0.3), 0px 1px 3px 1px rgba(60, 64, 67, 0.15);\n",
              "      fill: #174EA6;\n",
              "    }\n",
              "\n",
              "    .colab-df-buttons div {\n",
              "      margin-bottom: 4px;\n",
              "    }\n",
              "\n",
              "    [theme=dark] .colab-df-convert {\n",
              "      background-color: #3B4455;\n",
              "      fill: #D2E3FC;\n",
              "    }\n",
              "\n",
              "    [theme=dark] .colab-df-convert:hover {\n",
              "      background-color: #434B5C;\n",
              "      box-shadow: 0px 1px 3px 1px rgba(0, 0, 0, 0.15);\n",
              "      filter: drop-shadow(0px 1px 2px rgba(0, 0, 0, 0.3));\n",
              "      fill: #FFFFFF;\n",
              "    }\n",
              "  </style>\n",
              "\n",
              "    <script>\n",
              "      const buttonEl =\n",
              "        document.querySelector('#df-b621ec9b-5959-411c-8289-351b5fc826b4 button.colab-df-convert');\n",
              "      buttonEl.style.display =\n",
              "        google.colab.kernel.accessAllowed ? 'block' : 'none';\n",
              "\n",
              "      async function convertToInteractive(key) {\n",
              "        const element = document.querySelector('#df-b621ec9b-5959-411c-8289-351b5fc826b4');\n",
              "        const dataTable =\n",
              "          await google.colab.kernel.invokeFunction('convertToInteractive',\n",
              "                                                    [key], {});\n",
              "        if (!dataTable) return;\n",
              "\n",
              "        const docLinkHtml = 'Like what you see? Visit the ' +\n",
              "          '<a target=\"_blank\" href=https://colab.research.google.com/notebooks/data_table.ipynb>data table notebook</a>'\n",
              "          + ' to learn more about interactive tables.';\n",
              "        element.innerHTML = '';\n",
              "        dataTable['output_type'] = 'display_data';\n",
              "        await google.colab.output.renderOutput(dataTable, element);\n",
              "        const docLink = document.createElement('div');\n",
              "        docLink.innerHTML = docLinkHtml;\n",
              "        element.appendChild(docLink);\n",
              "      }\n",
              "    </script>\n",
              "  </div>\n",
              "\n",
              "\n",
              "<div id=\"df-d80da810-6550-4828-9e71-ba5e2d56f34c\">\n",
              "  <button class=\"colab-df-quickchart\" onclick=\"quickchart('df-d80da810-6550-4828-9e71-ba5e2d56f34c')\"\n",
              "            title=\"Suggest charts\"\n",
              "            style=\"display:none;\">\n",
              "\n",
              "<svg xmlns=\"http://www.w3.org/2000/svg\" height=\"24px\"viewBox=\"0 0 24 24\"\n",
              "     width=\"24px\">\n",
              "    <g>\n",
              "        <path d=\"M19 3H5c-1.1 0-2 .9-2 2v14c0 1.1.9 2 2 2h14c1.1 0 2-.9 2-2V5c0-1.1-.9-2-2-2zM9 17H7v-7h2v7zm4 0h-2V7h2v10zm4 0h-2v-4h2v4z\"/>\n",
              "    </g>\n",
              "</svg>\n",
              "  </button>\n",
              "\n",
              "<style>\n",
              "  .colab-df-quickchart {\n",
              "      --bg-color: #E8F0FE;\n",
              "      --fill-color: #1967D2;\n",
              "      --hover-bg-color: #E2EBFA;\n",
              "      --hover-fill-color: #174EA6;\n",
              "      --disabled-fill-color: #AAA;\n",
              "      --disabled-bg-color: #DDD;\n",
              "  }\n",
              "\n",
              "  [theme=dark] .colab-df-quickchart {\n",
              "      --bg-color: #3B4455;\n",
              "      --fill-color: #D2E3FC;\n",
              "      --hover-bg-color: #434B5C;\n",
              "      --hover-fill-color: #FFFFFF;\n",
              "      --disabled-bg-color: #3B4455;\n",
              "      --disabled-fill-color: #666;\n",
              "  }\n",
              "\n",
              "  .colab-df-quickchart {\n",
              "    background-color: var(--bg-color);\n",
              "    border: none;\n",
              "    border-radius: 50%;\n",
              "    cursor: pointer;\n",
              "    display: none;\n",
              "    fill: var(--fill-color);\n",
              "    height: 32px;\n",
              "    padding: 0;\n",
              "    width: 32px;\n",
              "  }\n",
              "\n",
              "  .colab-df-quickchart:hover {\n",
              "    background-color: var(--hover-bg-color);\n",
              "    box-shadow: 0 1px 2px rgba(60, 64, 67, 0.3), 0 1px 3px 1px rgba(60, 64, 67, 0.15);\n",
              "    fill: var(--button-hover-fill-color);\n",
              "  }\n",
              "\n",
              "  .colab-df-quickchart-complete:disabled,\n",
              "  .colab-df-quickchart-complete:disabled:hover {\n",
              "    background-color: var(--disabled-bg-color);\n",
              "    fill: var(--disabled-fill-color);\n",
              "    box-shadow: none;\n",
              "  }\n",
              "\n",
              "  .colab-df-spinner {\n",
              "    border: 2px solid var(--fill-color);\n",
              "    border-color: transparent;\n",
              "    border-bottom-color: var(--fill-color);\n",
              "    animation:\n",
              "      spin 1s steps(1) infinite;\n",
              "  }\n",
              "\n",
              "  @keyframes spin {\n",
              "    0% {\n",
              "      border-color: transparent;\n",
              "      border-bottom-color: var(--fill-color);\n",
              "      border-left-color: var(--fill-color);\n",
              "    }\n",
              "    20% {\n",
              "      border-color: transparent;\n",
              "      border-left-color: var(--fill-color);\n",
              "      border-top-color: var(--fill-color);\n",
              "    }\n",
              "    30% {\n",
              "      border-color: transparent;\n",
              "      border-left-color: var(--fill-color);\n",
              "      border-top-color: var(--fill-color);\n",
              "      border-right-color: var(--fill-color);\n",
              "    }\n",
              "    40% {\n",
              "      border-color: transparent;\n",
              "      border-right-color: var(--fill-color);\n",
              "      border-top-color: var(--fill-color);\n",
              "    }\n",
              "    60% {\n",
              "      border-color: transparent;\n",
              "      border-right-color: var(--fill-color);\n",
              "    }\n",
              "    80% {\n",
              "      border-color: transparent;\n",
              "      border-right-color: var(--fill-color);\n",
              "      border-bottom-color: var(--fill-color);\n",
              "    }\n",
              "    90% {\n",
              "      border-color: transparent;\n",
              "      border-bottom-color: var(--fill-color);\n",
              "    }\n",
              "  }\n",
              "</style>\n",
              "\n",
              "  <script>\n",
              "    async function quickchart(key) {\n",
              "      const quickchartButtonEl =\n",
              "        document.querySelector('#' + key + ' button');\n",
              "      quickchartButtonEl.disabled = true;  // To prevent multiple clicks.\n",
              "      quickchartButtonEl.classList.add('colab-df-spinner');\n",
              "      try {\n",
              "        const charts = await google.colab.kernel.invokeFunction(\n",
              "            'suggestCharts', [key], {});\n",
              "      } catch (error) {\n",
              "        console.error('Error during call to suggestCharts:', error);\n",
              "      }\n",
              "      quickchartButtonEl.classList.remove('colab-df-spinner');\n",
              "      quickchartButtonEl.classList.add('colab-df-quickchart-complete');\n",
              "    }\n",
              "    (() => {\n",
              "      let quickchartButtonEl =\n",
              "        document.querySelector('#df-d80da810-6550-4828-9e71-ba5e2d56f34c button');\n",
              "      quickchartButtonEl.style.display =\n",
              "        google.colab.kernel.accessAllowed ? 'block' : 'none';\n",
              "    })();\n",
              "  </script>\n",
              "</div>\n",
              "    </div>\n",
              "  </div>\n"
            ]
          },
          "metadata": {},
          "execution_count": 60
        }
      ]
    },
    {
      "cell_type": "code",
      "source": [
        "def test_summary_2(row):\n",
        "  article = row[\"prediction\"].replace(\" ## \",\" .\")\n",
        "  article = torch.tensor(encoder_1.encode(article+\"<# generate summary#>\"))\n",
        "  article = torch.unsqueeze(article,0)\n",
        "  index     = generate_tokens_greedily(article.to(device), block_size-article.shape[0])\n",
        "  complete_sentence = encoder_1.decode(index.detach().tolist()[0])\n",
        "  input, output = complete_sentence.split(\"<# generate summary#>\")\n",
        "  return output\n",
        "\n",
        "cumulative_sum_df = summary_task_df.groupby('GroupID').agg({\n",
        "    'article':    ' -- '.join,\n",
        "    'prediction': ' ## '.join,\n",
        "    'highlights': lambda p: p.iloc[0]\n",
        "}).reset_index()\n",
        "\n",
        "for i, r in tqdm(cumulative_sum_df.iterrows(), total=len(cumulative_sum_df)):\n",
        "    cumulative_sum_df.at[i, 'prediction'] = test_summary_2(r)\n",
        "\n",
        "cumulative_sum_df.to_csv(\"/content/drive/MyDrive/IDL/HW5/Final_code_files/Results/final_test_summary.csv\",index=False)\n",
        "cumulative_sum_df.head()"
      ],
      "metadata": {
        "id": "lEwegQjDP6FC"
      },
      "execution_count": null,
      "outputs": []
    },
    {
      "cell_type": "markdown",
      "source": [
        "### Question-answer task"
      ],
      "metadata": {
        "id": "WrXYtOVId7KH"
      }
    },
    {
      "cell_type": "code",
      "source": [
        "def test_question_answer(row):\n",
        "  article = row[\"article\"]+\"<#question#>\"+row[\"question\"]\n",
        "  temp = article+\"<#get answer#>\"\n",
        "  article = torch.tensor(encoder_1.encode(temp))\n",
        "  article = torch.unsqueeze(article,0)\n",
        "  index = generate_tokens_greedily(article.to(device), block_size-article.shape[0])\n",
        "  detached_list = index.detach().tolist()[0]\n",
        "  complete_sentence = encoder_1.decode(detached_list)\n",
        "  input, output  = complete_sentence.split(\"<#get answer#>\")\n",
        "  return output\n",
        "\n",
        "len_qa_task = len(question_answer_df)\n",
        "for i, r in tqdm(question_answer_df.iterrows(), total=len_qa_task):\n",
        "    question_answer_df.at[i, 'prediction'] = test_question_answer(r)\n",
        "\n",
        "question_answer_df = question_answer_df.drop_duplicates(subset='GroupID', keep=False)\n",
        "question_answer_df.to_csv(\"/content/drive/MyDrive/IDL/HW5/Final_code_files/Results/test_question_answer.csv\",index=False)\n",
        "question_answer_df.head()"
      ],
      "metadata": {
        "id": "z1UPkEVrP74q"
      },
      "execution_count": null,
      "outputs": []
    },
    {
      "cell_type": "markdown",
      "source": [
        "# ROGUE and BLEU Scoring"
      ],
      "metadata": {
        "id": "Hd0uA4cUaDVJ"
      }
    },
    {
      "cell_type": "code",
      "source": [
        "!pip install nltk\n",
        "!pip install rouge-score\n",
        "from nltk.translate.bleu_score import sentence_bleu\n",
        "from rouge_score import rouge_scorer"
      ],
      "metadata": {
        "execution": {
          "iopub.status.busy": "2023-12-10T22:29:48.609835Z",
          "iopub.execute_input": "2023-12-10T22:29:48.610730Z",
          "iopub.status.idle": "2023-12-10T22:30:15.830598Z",
          "shell.execute_reply.started": "2023-12-10T22:29:48.610678Z",
          "shell.execute_reply": "2023-12-10T22:30:15.829373Z"
        },
        "trusted": true,
        "id": "B84ufIRAaDVJ"
      },
      "execution_count": null,
      "outputs": []
    },
    {
      "cell_type": "code",
      "source": [
        "def obtain_bleu(prediction, target_output):\n",
        "    bleu_score = sentence_bleu([target_output.split()], prediction.split())\n",
        "    return bleu_score"
      ],
      "metadata": {
        "execution": {
          "iopub.status.busy": "2023-12-10T22:30:15.833219Z",
          "iopub.execute_input": "2023-12-10T22:30:15.833646Z",
          "iopub.status.idle": "2023-12-10T22:30:17.500107Z",
          "shell.execute_reply.started": "2023-12-10T22:30:15.833603Z",
          "shell.execute_reply": "2023-12-10T22:30:17.499075Z"
        },
        "trusted": true,
        "id": "jbTlem0GaDVJ",
        "outputId": "b8c05d67-2ac5-4768-8e68-8c5d50d65d76"
      },
      "execution_count": null,
      "outputs": [
        {
          "name": "stderr",
          "text": "/opt/conda/lib/python3.10/site-packages/scipy/__init__.py:146: UserWarning: A NumPy version >=1.16.5 and <1.23.0 is required for this version of SciPy (detected version 1.24.3\n  warnings.warn(f\"A NumPy version >={np_minversion} and <{np_maxversion}\"\n",
          "output_type": "stream"
        }
      ]
    },
    {
      "cell_type": "code",
      "source": [
        "def obtain_rouge(prediction, target_output):\n",
        "    rogue_scorer = rouge_scorer.RougeScorer(['rouge1'], use_stemmer=True)\n",
        "    scores = rogue_scorer.score(target_output, prediction)\n",
        "    return scores['rouge1'].fmeasure"
      ],
      "metadata": {
        "id": "3ss9B-i6vZTg"
      },
      "execution_count": null,
      "outputs": []
    },
    {
      "cell_type": "code",
      "source": [
        "def obtain_score(df):\n",
        "    df['bleu_score'] = df.apply(lambda row: obtain_bleu(row['final_prediction'], row['highlights']), axis=1)\n",
        "    df['rouge_scores'] = df.apply(lambda row: obtain_rouge(row['final_prediction'], row['highlights']), axis=1)\n",
        "    return df"
      ],
      "metadata": {
        "id": "sXIGE-jMvYVV"
      },
      "execution_count": null,
      "outputs": []
    },
    {
      "cell_type": "markdown",
      "source": [
        "### Summary task"
      ],
      "metadata": {
        "id": "t2D6Nx0Ru8ga"
      }
    },
    {
      "cell_type": "code",
      "source": [
        "cumulative_sum_df_2 = obtain_score(cumulative_sum_df)\n",
        "average_bleu = cumulative_sum_df_2['bleu_score'].mean()\n",
        "average_rouge = cumulative_sum_df_2['rouge_scores'].mean()\n",
        "print(\"\\nThe Average BLEU Score for Summary task:\", average_bleu)\n",
        "print(\"\\nThe Average ROUGE Scores for Summary task:\", average_rouge)"
      ],
      "metadata": {
        "execution": {
          "iopub.status.busy": "2023-12-10T22:30:17.501367Z",
          "iopub.execute_input": "2023-12-10T22:30:17.501663Z",
          "iopub.status.idle": "2023-12-10T22:30:17.903517Z",
          "shell.execute_reply.started": "2023-12-10T22:30:17.501635Z",
          "shell.execute_reply": "2023-12-10T22:30:17.902452Z"
        },
        "trusted": true,
        "id": "gzQo96BeaDVJ",
        "outputId": "aa7e60fe-835b-47e7-9242-407fd297aede"
      },
      "execution_count": null,
      "outputs": [
        {
          "name": "stderr",
          "text": "/opt/conda/lib/python3.10/site-packages/nltk/translate/bleu_score.py:490: UserWarning: \nCorpus/Sentence contains 0 counts of 3-gram overlaps.\nBLEU scores might be undesirable; use SmoothingFunction().\n  warnings.warn(_msg)\n/opt/conda/lib/python3.10/site-packages/nltk/translate/bleu_score.py:490: UserWarning: \nCorpus/Sentence contains 0 counts of 2-gram overlaps.\nBLEU scores might be undesirable; use SmoothingFunction().\n  warnings.warn(_msg)\n/opt/conda/lib/python3.10/site-packages/nltk/translate/bleu_score.py:490: UserWarning: \nCorpus/Sentence contains 0 counts of 4-gram overlaps.\nBLEU scores might be undesirable; use SmoothingFunction().\n  warnings.warn(_msg)\n",
          "output_type": "stream"
        }
      ]
    },
    {
      "cell_type": "code",
      "source": [
        "cumulative_sum_df_2.head(10)"
      ],
      "metadata": {
        "execution": {
          "iopub.status.busy": "2023-12-10T22:36:55.845602Z",
          "iopub.execute_input": "2023-12-10T22:36:55.846665Z",
          "iopub.status.idle": "2023-12-10T22:36:55.867366Z",
          "shell.execute_reply.started": "2023-12-10T22:36:55.846624Z",
          "shell.execute_reply": "2023-12-10T22:36:55.866246Z"
        },
        "trusted": true,
        "id": "70ipOgDcaDVJ"
      },
      "execution_count": null,
      "outputs": []
    },
    {
      "cell_type": "code",
      "source": [
        "cumulative_sum_df_2.to_csv(\"/content/drive/MyDrive/IDL/HW5/Final_code_files/Results/scored_summary.csv\", index = False)"
      ],
      "metadata": {
        "execution": {
          "iopub.status.busy": "2023-12-10T22:30:17.942157Z",
          "iopub.execute_input": "2023-12-10T22:30:17.942527Z",
          "iopub.status.idle": "2023-12-10T22:30:18.011951Z",
          "shell.execute_reply.started": "2023-12-10T22:30:17.942494Z",
          "shell.execute_reply": "2023-12-10T22:30:18.010937Z"
        },
        "trusted": true,
        "id": "OCOpWxpzaDVK"
      },
      "execution_count": null,
      "outputs": []
    },
    {
      "cell_type": "markdown",
      "source": [
        "### Question-Answer task"
      ],
      "metadata": {
        "id": "xvtbIr3jaDVK"
      }
    },
    {
      "cell_type": "code",
      "source": [
        "question_answer_df = obtain_score(question_answer_df)\n",
        "average_bleu = question_answer_df['bleu_score'].mean()\n",
        "average_rouge = question_answer_df['rouge_scores'].mean()\n",
        "print(\"\\nThe Average BLEU Score for question-answer task:\", average_bleu)\n",
        "print(\"\\nThe Average ROUGE Score for question-answer task:\", average_rouge)\n",
        "question_answer_df.head(5)"
      ],
      "metadata": {
        "execution": {
          "iopub.status.busy": "2023-12-10T22:30:18.022893Z",
          "iopub.execute_input": "2023-12-10T22:30:18.023250Z",
          "iopub.status.idle": "2023-12-10T22:30:18.127019Z",
          "shell.execute_reply.started": "2023-12-10T22:30:18.023218Z",
          "shell.execute_reply": "2023-12-10T22:30:18.123408Z"
        },
        "trusted": true,
        "id": "ZbJs3KdvaDVK"
      },
      "execution_count": null,
      "outputs": []
    },
    {
      "cell_type": "code",
      "source": [
        "question_answer_df.to_csv(\"/content/drive/MyDrive/IDL/HW5/Final_code_files/Results/scored_QA.csv\", index = False)"
      ],
      "metadata": {
        "execution": {
          "iopub.status.busy": "2023-12-10T22:30:18.141708Z",
          "iopub.execute_input": "2023-12-10T22:30:18.142188Z",
          "iopub.status.idle": "2023-12-10T22:30:18.160991Z",
          "shell.execute_reply.started": "2023-12-10T22:30:18.142156Z",
          "shell.execute_reply": "2023-12-10T22:30:18.160008Z"
        },
        "trusted": true,
        "id": "B5EYmcjNaDVK"
      },
      "execution_count": null,
      "outputs": []
    }
  ]
}